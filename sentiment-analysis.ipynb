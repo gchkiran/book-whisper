{
 "cells": [
  {
   "cell_type": "code",
   "execution_count": 1,
   "id": "043bc2d5-d05d-4e56-a475-d3ad3452987c",
   "metadata": {},
   "outputs": [],
   "source": [
    "import pandas as pd\n",
    "\n",
    "books = pd.read_csv(\"books_with_categories.csv\")"
   ]
  },
  {
   "cell_type": "code",
   "execution_count": 2,
   "id": "cdc0b1ac-a635-4978-8fc6-8dec46e94baf",
   "metadata": {},
   "outputs": [
    {
     "data": {
      "application/vnd.jupyter.widget-view+json": {
       "model_id": "b76a1e2176a5412aa2c952d193cb1836",
       "version_major": 2,
       "version_minor": 0
      },
      "text/plain": [
       "config.json: 0.00B [00:00, ?B/s]"
      ]
     },
     "metadata": {},
     "output_type": "display_data"
    },
    {
     "data": {
      "application/vnd.jupyter.widget-view+json": {
       "model_id": "dd5874781a774a90876691a1ebf64f7f",
       "version_major": 2,
       "version_minor": 0
      },
      "text/plain": [
       "pytorch_model.bin:   0%|          | 0.00/329M [00:00<?, ?B/s]"
      ]
     },
     "metadata": {},
     "output_type": "display_data"
    },
    {
     "data": {
      "application/vnd.jupyter.widget-view+json": {
       "model_id": "9ef1e99e89b343a59fc40a9508244211",
       "version_major": 2,
       "version_minor": 0
      },
      "text/plain": [
       "tokenizer_config.json:   0%|          | 0.00/294 [00:00<?, ?B/s]"
      ]
     },
     "metadata": {},
     "output_type": "display_data"
    },
    {
     "data": {
      "application/vnd.jupyter.widget-view+json": {
       "model_id": "71a27644928c4bb4b5018794a2ac15cc",
       "version_major": 2,
       "version_minor": 0
      },
      "text/plain": [
       "vocab.json: 0.00B [00:00, ?B/s]"
      ]
     },
     "metadata": {},
     "output_type": "display_data"
    },
    {
     "data": {
      "application/vnd.jupyter.widget-view+json": {
       "model_id": "fce85b00d97b44bc944c1b235678fc44",
       "version_major": 2,
       "version_minor": 0
      },
      "text/plain": [
       "merges.txt: 0.00B [00:00, ?B/s]"
      ]
     },
     "metadata": {},
     "output_type": "display_data"
    },
    {
     "data": {
      "application/vnd.jupyter.widget-view+json": {
       "model_id": "764dea10ab0e41259161573d6ac26580",
       "version_major": 2,
       "version_minor": 0
      },
      "text/plain": [
       "tokenizer.json: 0.00B [00:00, ?B/s]"
      ]
     },
     "metadata": {},
     "output_type": "display_data"
    },
    {
     "data": {
      "application/vnd.jupyter.widget-view+json": {
       "model_id": "2ac2d88c41d9433da2fd0b3c4b219d70",
       "version_major": 2,
       "version_minor": 0
      },
      "text/plain": [
       "special_tokens_map.json:   0%|          | 0.00/239 [00:00<?, ?B/s]"
      ]
     },
     "metadata": {},
     "output_type": "display_data"
    },
    {
     "data": {
      "text/plain": [
       "[[{'label': 'joy', 'score': 0.9771687984466553},\n",
       "  {'label': 'surprise', 'score': 0.008528684265911579},\n",
       "  {'label': 'neutral', 'score': 0.005764597561210394},\n",
       "  {'label': 'anger', 'score': 0.004419785924255848},\n",
       "  {'label': 'sadness', 'score': 0.002092391485348344},\n",
       "  {'label': 'disgust', 'score': 0.001611993182450533},\n",
       "  {'label': 'fear', 'score': 0.0004138521908316761}]]"
      ]
     },
     "execution_count": 2,
     "metadata": {},
     "output_type": "execute_result"
    }
   ],
   "source": [
    "from transformers import pipeline\n",
    "classifier = pipeline(\"text-classification\",\n",
    "                      model=\"j-hartmann/emotion-english-distilroberta-base\",\n",
    "                      top_k = None,\n",
    "                      device = \"mps\")\n",
    "classifier(\"I love this!\")"
   ]
  },
  {
   "cell_type": "code",
   "execution_count": 3,
   "id": "e7474e2f-94b6-48b0-b580-4dec6a865c96",
   "metadata": {},
   "outputs": [
    {
     "data": {
      "text/plain": [
       "[[{'label': 'fear', 'score': 0.6548411250114441},\n",
       "  {'label': 'neutral', 'score': 0.16985182464122772},\n",
       "  {'label': 'sadness', 'score': 0.1164092868566513},\n",
       "  {'label': 'surprise', 'score': 0.020700648427009583},\n",
       "  {'label': 'disgust', 'score': 0.019100768491625786},\n",
       "  {'label': 'joy', 'score': 0.015161257237195969},\n",
       "  {'label': 'anger', 'score': 0.003935155458748341}]]"
      ]
     },
     "execution_count": 3,
     "metadata": {},
     "output_type": "execute_result"
    }
   ],
   "source": [
    "classifier(books[\"description\"][0])"
   ]
  },
  {
   "cell_type": "code",
   "execution_count": 4,
   "id": "c7b30dca-86ac-45af-bb09-800a911de3bb",
   "metadata": {},
   "outputs": [
    {
     "data": {
      "text/plain": [
       "[[{'label': 'surprise', 'score': 0.7296029329299927},\n",
       "  {'label': 'neutral', 'score': 0.14038550853729248},\n",
       "  {'label': 'fear', 'score': 0.06816217303276062},\n",
       "  {'label': 'joy', 'score': 0.04794248566031456},\n",
       "  {'label': 'anger', 'score': 0.009156341664493084},\n",
       "  {'label': 'disgust', 'score': 0.0026284747291356325},\n",
       "  {'label': 'sadness', 'score': 0.0021221621427685022}],\n",
       " [{'label': 'neutral', 'score': 0.449371874332428},\n",
       "  {'label': 'disgust', 'score': 0.2735908627510071},\n",
       "  {'label': 'joy', 'score': 0.10908269137144089},\n",
       "  {'label': 'sadness', 'score': 0.09362723678350449},\n",
       "  {'label': 'anger', 'score': 0.04047820717096329},\n",
       "  {'label': 'surprise', 'score': 0.026970140635967255},\n",
       "  {'label': 'fear', 'score': 0.006879061460494995}],\n",
       " [{'label': 'neutral', 'score': 0.6462149620056152},\n",
       "  {'label': 'sadness', 'score': 0.24273452162742615},\n",
       "  {'label': 'disgust', 'score': 0.04342262074351311},\n",
       "  {'label': 'surprise', 'score': 0.028300486505031586},\n",
       "  {'label': 'joy', 'score': 0.014211434870958328},\n",
       "  {'label': 'fear', 'score': 0.014084097929298878},\n",
       "  {'label': 'anger', 'score': 0.011031873524188995}],\n",
       " [{'label': 'fear', 'score': 0.9281688332557678},\n",
       "  {'label': 'anger', 'score': 0.032190486788749695},\n",
       "  {'label': 'neutral', 'score': 0.012808619067072868},\n",
       "  {'label': 'sadness', 'score': 0.00875682570040226},\n",
       "  {'label': 'surprise', 'score': 0.008597852662205696},\n",
       "  {'label': 'disgust', 'score': 0.00843176431953907},\n",
       "  {'label': 'joy', 'score': 0.0010455785086378455}],\n",
       " [{'label': 'sadness', 'score': 0.9671575427055359},\n",
       "  {'label': 'neutral', 'score': 0.015104164369404316},\n",
       "  {'label': 'disgust', 'score': 0.006480592768639326},\n",
       "  {'label': 'fear', 'score': 0.005394003354012966},\n",
       "  {'label': 'surprise', 'score': 0.0022869419772177935},\n",
       "  {'label': 'anger', 'score': 0.0018428885377943516},\n",
       "  {'label': 'joy', 'score': 0.0017338780453428626}],\n",
       " [{'label': 'joy', 'score': 0.9327980279922485},\n",
       "  {'label': 'disgust', 'score': 0.037717096507549286},\n",
       "  {'label': 'neutral', 'score': 0.01589185558259487},\n",
       "  {'label': 'sadness', 'score': 0.006444496568292379},\n",
       "  {'label': 'anger', 'score': 0.005024975165724754},\n",
       "  {'label': 'surprise', 'score': 0.0015812072670087218},\n",
       "  {'label': 'fear', 'score': 0.0005423066904768348}],\n",
       " [{'label': 'joy', 'score': 0.6528698205947876},\n",
       "  {'label': 'neutral', 'score': 0.2542753517627716},\n",
       "  {'label': 'surprise', 'score': 0.06808321177959442},\n",
       "  {'label': 'sadness', 'score': 0.009909013286232948},\n",
       "  {'label': 'disgust', 'score': 0.006512222345918417},\n",
       "  {'label': 'anger', 'score': 0.004821320064365864},\n",
       "  {'label': 'fear', 'score': 0.0035290271043777466}],\n",
       " [{'label': 'neutral', 'score': 0.5494771003723145},\n",
       "  {'label': 'sadness', 'score': 0.11169014871120453},\n",
       "  {'label': 'disgust', 'score': 0.10400662571191788},\n",
       "  {'label': 'surprise', 'score': 0.07876543700695038},\n",
       "  {'label': 'anger', 'score': 0.06413356214761734},\n",
       "  {'label': 'fear', 'score': 0.05136275663971901},\n",
       "  {'label': 'joy', 'score': 0.040564361959695816}]]"
      ]
     },
     "execution_count": 4,
     "metadata": {},
     "output_type": "execute_result"
    }
   ],
   "source": [
    "classifier(books[\"description\"][0].split(\".\"))"
   ]
  },
  {
   "cell_type": "code",
   "execution_count": 5,
   "id": "b1a93288-cf32-4ee9-8168-4c0aa38fae0e",
   "metadata": {},
   "outputs": [],
   "source": [
    "sentences = books[\"description\"][0].split(\".\")\n",
    "predictions = classifier(sentences)"
   ]
  },
  {
   "cell_type": "code",
   "execution_count": 6,
   "id": "beff54ec-3af4-478a-9958-71337cae8dbe",
   "metadata": {},
   "outputs": [
    {
     "data": {
      "text/plain": [
       "[{'label': 'anger', 'score': 0.009156341664493084},\n",
       " {'label': 'disgust', 'score': 0.0026284747291356325},\n",
       " {'label': 'fear', 'score': 0.06816217303276062},\n",
       " {'label': 'joy', 'score': 0.04794248566031456},\n",
       " {'label': 'neutral', 'score': 0.14038550853729248},\n",
       " {'label': 'sadness', 'score': 0.0021221621427685022},\n",
       " {'label': 'surprise', 'score': 0.7296029329299927}]"
      ]
     },
     "execution_count": 6,
     "metadata": {},
     "output_type": "execute_result"
    }
   ],
   "source": [
    "sorted(predictions[0], key=lambda x: x[\"label\"])"
   ]
  },
  {
   "cell_type": "code",
   "execution_count": 7,
   "id": "1dc940f8-dcfc-4612-b16f-dc80aadabde0",
   "metadata": {},
   "outputs": [],
   "source": [
    "import numpy as np\n",
    "\n",
    "emotion_labels = [\"anger\", \"disgust\", \"fear\", \"joy\", \"sadness\", \"surprise\", \"neutral\"]\n",
    "isbn = []\n",
    "emotion_scores = {label: [] for label in emotion_labels}\n",
    "\n",
    "def calculate_max_emotion_scores(predictions):\n",
    "    per_emotion_scores = {label: [] for label in emotion_labels}\n",
    "    for prediction in predictions:\n",
    "        sorted_predictions = sorted(prediction, key=lambda x: x[\"label\"])\n",
    "        for index, label in enumerate(emotion_labels):\n",
    "            per_emotion_scores[label].append(sorted_predictions[index][\"score\"])\n",
    "    return {label: np.max(scores) for label, scores in per_emotion_scores.items()}"
   ]
  },
  {
   "cell_type": "code",
   "execution_count": 8,
   "id": "6c161520-4b36-4930-9704-6698af923f31",
   "metadata": {},
   "outputs": [],
   "source": [
    "for i in range(10):\n",
    "    isbn.append(books[\"isbn13\"][i])\n",
    "    sentences = books[\"description\"][i].split(\".\")\n",
    "    predictions = classifier(sentences)\n",
    "    max_scores = calculate_max_emotion_scores(predictions)\n",
    "    for label in emotion_labels:\n",
    "        emotion_scores[label].append(max_scores[label])"
   ]
  },
  {
   "cell_type": "code",
   "execution_count": 10,
   "id": "6ebb7b27-925e-4778-be65-5a06339d7527",
   "metadata": {},
   "outputs": [
    {
     "name": "stderr",
     "output_type": "stream",
     "text": [
      "100%|████████████████████████████████████████████████████████████████████████████████████████████████████| 5197/5197 [12:58<00:00,  6.68it/s]\n"
     ]
    }
   ],
   "source": [
    "from tqdm import tqdm\n",
    "\n",
    "emotion_labels = [\"anger\", \"disgust\", \"fear\", \"joy\", \"sadness\", \"surprise\", \"neutral\"]\n",
    "isbn = []\n",
    "emotion_scores = {label: [] for label in emotion_labels}\n",
    "\n",
    "for i in tqdm(range(len(books))):\n",
    "    isbn.append(books[\"isbn13\"][i])\n",
    "    sentences = books[\"description\"][i].split(\".\")\n",
    "    predictions = classifier(sentences)\n",
    "    max_scores = calculate_max_emotion_scores(predictions)\n",
    "    for label in emotion_labels:\n",
    "        emotion_scores[label].append(max_scores[label])"
   ]
  },
  {
   "cell_type": "code",
   "execution_count": 11,
   "id": "fa0a9dfa-7c57-4209-9d7e-dbe08bca83d5",
   "metadata": {},
   "outputs": [],
   "source": [
    "emotions_df = pd.DataFrame(emotion_scores)\n",
    "emotions_df[\"isbn13\"] = isbn"
   ]
  },
  {
   "cell_type": "code",
   "execution_count": 12,
   "id": "87480717-ba78-4ac8-9276-898431b62651",
   "metadata": {},
   "outputs": [
    {
     "data": {
      "text/html": [
       "<div>\n",
       "<style scoped>\n",
       "    .dataframe tbody tr th:only-of-type {\n",
       "        vertical-align: middle;\n",
       "    }\n",
       "\n",
       "    .dataframe tbody tr th {\n",
       "        vertical-align: top;\n",
       "    }\n",
       "\n",
       "    .dataframe thead th {\n",
       "        text-align: right;\n",
       "    }\n",
       "</style>\n",
       "<table border=\"1\" class=\"dataframe\">\n",
       "  <thead>\n",
       "    <tr style=\"text-align: right;\">\n",
       "      <th></th>\n",
       "      <th>anger</th>\n",
       "      <th>disgust</th>\n",
       "      <th>fear</th>\n",
       "      <th>joy</th>\n",
       "      <th>sadness</th>\n",
       "      <th>surprise</th>\n",
       "      <th>neutral</th>\n",
       "      <th>isbn13</th>\n",
       "    </tr>\n",
       "  </thead>\n",
       "  <tbody>\n",
       "    <tr>\n",
       "      <th>0</th>\n",
       "      <td>0.064134</td>\n",
       "      <td>0.273591</td>\n",
       "      <td>0.928169</td>\n",
       "      <td>0.932798</td>\n",
       "      <td>0.646215</td>\n",
       "      <td>0.967158</td>\n",
       "      <td>0.729603</td>\n",
       "      <td>9780002005883</td>\n",
       "    </tr>\n",
       "    <tr>\n",
       "      <th>1</th>\n",
       "      <td>0.612618</td>\n",
       "      <td>0.348286</td>\n",
       "      <td>0.942528</td>\n",
       "      <td>0.704421</td>\n",
       "      <td>0.887940</td>\n",
       "      <td>0.111690</td>\n",
       "      <td>0.252545</td>\n",
       "      <td>9780002261982</td>\n",
       "    </tr>\n",
       "    <tr>\n",
       "      <th>2</th>\n",
       "      <td>0.064134</td>\n",
       "      <td>0.104007</td>\n",
       "      <td>0.972321</td>\n",
       "      <td>0.767238</td>\n",
       "      <td>0.549477</td>\n",
       "      <td>0.111690</td>\n",
       "      <td>0.078765</td>\n",
       "      <td>9780006178736</td>\n",
       "    </tr>\n",
       "    <tr>\n",
       "      <th>3</th>\n",
       "      <td>0.351483</td>\n",
       "      <td>0.150723</td>\n",
       "      <td>0.360707</td>\n",
       "      <td>0.251881</td>\n",
       "      <td>0.732686</td>\n",
       "      <td>0.111690</td>\n",
       "      <td>0.078765</td>\n",
       "      <td>9780006280897</td>\n",
       "    </tr>\n",
       "    <tr>\n",
       "      <th>4</th>\n",
       "      <td>0.081412</td>\n",
       "      <td>0.184495</td>\n",
       "      <td>0.095043</td>\n",
       "      <td>0.040564</td>\n",
       "      <td>0.884389</td>\n",
       "      <td>0.475881</td>\n",
       "      <td>0.078765</td>\n",
       "      <td>9780006280934</td>\n",
       "    </tr>\n",
       "    <tr>\n",
       "      <th>...</th>\n",
       "      <td>...</td>\n",
       "      <td>...</td>\n",
       "      <td>...</td>\n",
       "      <td>...</td>\n",
       "      <td>...</td>\n",
       "      <td>...</td>\n",
       "      <td>...</td>\n",
       "      <td>...</td>\n",
       "    </tr>\n",
       "    <tr>\n",
       "      <th>5192</th>\n",
       "      <td>0.148209</td>\n",
       "      <td>0.030642</td>\n",
       "      <td>0.919165</td>\n",
       "      <td>0.255169</td>\n",
       "      <td>0.853722</td>\n",
       "      <td>0.980877</td>\n",
       "      <td>0.030656</td>\n",
       "      <td>9788172235222</td>\n",
       "    </tr>\n",
       "    <tr>\n",
       "      <th>5193</th>\n",
       "      <td>0.064134</td>\n",
       "      <td>0.114383</td>\n",
       "      <td>0.051363</td>\n",
       "      <td>0.400263</td>\n",
       "      <td>0.883198</td>\n",
       "      <td>0.111690</td>\n",
       "      <td>0.227765</td>\n",
       "      <td>9788173031014</td>\n",
       "    </tr>\n",
       "    <tr>\n",
       "      <th>5194</th>\n",
       "      <td>0.009997</td>\n",
       "      <td>0.009929</td>\n",
       "      <td>0.339217</td>\n",
       "      <td>0.947779</td>\n",
       "      <td>0.375756</td>\n",
       "      <td>0.066685</td>\n",
       "      <td>0.057625</td>\n",
       "      <td>9788179921623</td>\n",
       "    </tr>\n",
       "    <tr>\n",
       "      <th>5195</th>\n",
       "      <td>0.064134</td>\n",
       "      <td>0.104007</td>\n",
       "      <td>0.459269</td>\n",
       "      <td>0.759455</td>\n",
       "      <td>0.951104</td>\n",
       "      <td>0.368110</td>\n",
       "      <td>0.078765</td>\n",
       "      <td>9788185300535</td>\n",
       "    </tr>\n",
       "    <tr>\n",
       "      <th>5196</th>\n",
       "      <td>0.064134</td>\n",
       "      <td>0.104007</td>\n",
       "      <td>0.051363</td>\n",
       "      <td>0.958549</td>\n",
       "      <td>0.915193</td>\n",
       "      <td>0.111690</td>\n",
       "      <td>0.078765</td>\n",
       "      <td>9789027712059</td>\n",
       "    </tr>\n",
       "  </tbody>\n",
       "</table>\n",
       "<p>5197 rows × 8 columns</p>\n",
       "</div>"
      ],
      "text/plain": [
       "         anger   disgust      fear       joy   sadness  surprise   neutral  \\\n",
       "0     0.064134  0.273591  0.928169  0.932798  0.646215  0.967158  0.729603   \n",
       "1     0.612618  0.348286  0.942528  0.704421  0.887940  0.111690  0.252545   \n",
       "2     0.064134  0.104007  0.972321  0.767238  0.549477  0.111690  0.078765   \n",
       "3     0.351483  0.150723  0.360707  0.251881  0.732686  0.111690  0.078765   \n",
       "4     0.081412  0.184495  0.095043  0.040564  0.884389  0.475881  0.078765   \n",
       "...        ...       ...       ...       ...       ...       ...       ...   \n",
       "5192  0.148209  0.030642  0.919165  0.255169  0.853722  0.980877  0.030656   \n",
       "5193  0.064134  0.114383  0.051363  0.400263  0.883198  0.111690  0.227765   \n",
       "5194  0.009997  0.009929  0.339217  0.947779  0.375756  0.066685  0.057625   \n",
       "5195  0.064134  0.104007  0.459269  0.759455  0.951104  0.368110  0.078765   \n",
       "5196  0.064134  0.104007  0.051363  0.958549  0.915193  0.111690  0.078765   \n",
       "\n",
       "             isbn13  \n",
       "0     9780002005883  \n",
       "1     9780002261982  \n",
       "2     9780006178736  \n",
       "3     9780006280897  \n",
       "4     9780006280934  \n",
       "...             ...  \n",
       "5192  9788172235222  \n",
       "5193  9788173031014  \n",
       "5194  9788179921623  \n",
       "5195  9788185300535  \n",
       "5196  9789027712059  \n",
       "\n",
       "[5197 rows x 8 columns]"
      ]
     },
     "execution_count": 12,
     "metadata": {},
     "output_type": "execute_result"
    }
   ],
   "source": [
    "emotions_df"
   ]
  },
  {
   "cell_type": "code",
   "execution_count": 13,
   "id": "5839a9d7-fc73-481b-9dfc-6445399e6d8f",
   "metadata": {},
   "outputs": [],
   "source": [
    "books = pd.merge(books, emotions_df, on = \"isbn13\")"
   ]
  },
  {
   "cell_type": "code",
   "execution_count": 14,
   "id": "a0360093-8540-4cc7-9986-32ce94e760b3",
   "metadata": {},
   "outputs": [],
   "source": [
    "books.to_csv(\"books_with_emotions.csv\", index = False)"
   ]
  }
 ],
 "metadata": {
  "kernelspec": {
   "display_name": "Python 3 (ipykernel)",
   "language": "python",
   "name": "python3"
  },
  "language_info": {
   "codemirror_mode": {
    "name": "ipython",
    "version": 3
   },
   "file_extension": ".py",
   "mimetype": "text/x-python",
   "name": "python",
   "nbconvert_exporter": "python",
   "pygments_lexer": "ipython3",
   "version": "3.12.10"
  }
 },
 "nbformat": 4,
 "nbformat_minor": 5
}
